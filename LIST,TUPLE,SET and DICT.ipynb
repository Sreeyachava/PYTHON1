{
 "cells": [
  {
   "cell_type": "markdown",
   "id": "dbeedb03",
   "metadata": {},
   "source": [
    "## LISTS"
   ]
  },
  {
   "cell_type": "markdown",
   "id": "b86ab09d",
   "metadata": {},
   "source": [
    "### HETEROGENEOUS"
   ]
  },
  {
   "cell_type": "markdown",
   "id": "909c16f9",
   "metadata": {},
   "source": [
    "### MUTABLE"
   ]
  },
  {
   "cell_type": "markdown",
   "id": "9aa67888",
   "metadata": {},
   "source": [
    "### CAN RETRIEVE DATA USING INDEX"
   ]
  },
  {
   "cell_type": "code",
   "execution_count": 1,
   "id": "f3f071be",
   "metadata": {},
   "outputs": [
    {
     "data": {
      "text/plain": [
       "[1, 2, 13.5, 'ab', 8]"
      ]
     },
     "execution_count": 1,
     "metadata": {},
     "output_type": "execute_result"
    }
   ],
   "source": [
    "list=[1,2,13.5,\"ab\",8]\n",
    "list"
   ]
  },
  {
   "cell_type": "code",
   "execution_count": 2,
   "id": "2b1b4d09",
   "metadata": {},
   "outputs": [
    {
     "data": {
      "text/plain": [
       "list"
      ]
     },
     "execution_count": 2,
     "metadata": {},
     "output_type": "execute_result"
    }
   ],
   "source": [
    "type(list)"
   ]
  },
  {
   "cell_type": "code",
   "execution_count": 3,
   "id": "3cf9bab1",
   "metadata": {},
   "outputs": [
    {
     "data": {
      "text/plain": [
       "2"
      ]
     },
     "execution_count": 3,
     "metadata": {},
     "output_type": "execute_result"
    }
   ],
   "source": [
    "list[1]"
   ]
  },
  {
   "cell_type": "code",
   "execution_count": 4,
   "id": "410e63ef",
   "metadata": {},
   "outputs": [],
   "source": [
    "list[1]=4"
   ]
  },
  {
   "cell_type": "code",
   "execution_count": 5,
   "id": "eda8dc7b",
   "metadata": {},
   "outputs": [
    {
     "data": {
      "text/plain": [
       "[1, 4, 13.5, 'ab', 8]"
      ]
     },
     "execution_count": 5,
     "metadata": {},
     "output_type": "execute_result"
    }
   ],
   "source": [
    "list"
   ]
  },
  {
   "cell_type": "code",
   "execution_count": 6,
   "id": "8a587096",
   "metadata": {},
   "outputs": [
    {
     "ename": "IndexError",
     "evalue": "list index out of range",
     "output_type": "error",
     "traceback": [
      "\u001b[1;31m---------------------------------------------------------------------------\u001b[0m",
      "\u001b[1;31mIndexError\u001b[0m                                Traceback (most recent call last)",
      "Cell \u001b[1;32mIn[6], line 1\u001b[0m\n\u001b[1;32m----> 1\u001b[0m \u001b[38;5;28;43mlist\u001b[39;49m\u001b[43m[\u001b[49m\u001b[38;5;241;43m5\u001b[39;49m\u001b[43m]\u001b[49m\n",
      "\u001b[1;31mIndexError\u001b[0m: list index out of range"
     ]
    }
   ],
   "source": [
    "list[5]"
   ]
  },
  {
   "cell_type": "markdown",
   "id": "37edda8d",
   "metadata": {},
   "source": [
    "## TUPLE"
   ]
  },
  {
   "cell_type": "markdown",
   "id": "1ab581b7",
   "metadata": {},
   "source": [
    "### HETEROGENEOUS"
   ]
  },
  {
   "cell_type": "markdown",
   "id": "52f6ede0",
   "metadata": {},
   "source": [
    "### PARANTHESIS"
   ]
  },
  {
   "cell_type": "markdown",
   "id": "4befc423",
   "metadata": {},
   "source": [
    "### CAN RETRIEVE DATA USING INDEX"
   ]
  },
  {
   "cell_type": "markdown",
   "id": "bbcc206b",
   "metadata": {},
   "source": [
    "### IMMUTABLE"
   ]
  },
  {
   "cell_type": "code",
   "execution_count": 8,
   "id": "fd4709b6",
   "metadata": {},
   "outputs": [
    {
     "data": {
      "text/plain": [
       "(1, 2, 'ab', 7.8)"
      ]
     },
     "execution_count": 8,
     "metadata": {},
     "output_type": "execute_result"
    }
   ],
   "source": [
    "tuple=1,2,\"ab\",7.8\n",
    "tuple"
   ]
  },
  {
   "cell_type": "code",
   "execution_count": 9,
   "id": "4dda3ae6",
   "metadata": {},
   "outputs": [
    {
     "data": {
      "text/plain": [
       "tuple"
      ]
     },
     "execution_count": 9,
     "metadata": {},
     "output_type": "execute_result"
    }
   ],
   "source": [
    "type(tuple)"
   ]
  },
  {
   "cell_type": "code",
   "execution_count": 11,
   "id": "7c58a672",
   "metadata": {},
   "outputs": [
    {
     "data": {
      "text/plain": [
       "2"
      ]
     },
     "execution_count": 11,
     "metadata": {},
     "output_type": "execute_result"
    }
   ],
   "source": [
    "tuple[1]"
   ]
  },
  {
   "cell_type": "code",
   "execution_count": 12,
   "id": "d88cbef1",
   "metadata": {},
   "outputs": [
    {
     "ename": "IndexError",
     "evalue": "tuple index out of range",
     "output_type": "error",
     "traceback": [
      "\u001b[1;31m---------------------------------------------------------------------------\u001b[0m",
      "\u001b[1;31mIndexError\u001b[0m                                Traceback (most recent call last)",
      "Cell \u001b[1;32mIn[12], line 1\u001b[0m\n\u001b[1;32m----> 1\u001b[0m \u001b[38;5;28;43mtuple\u001b[39;49m\u001b[43m[\u001b[49m\u001b[38;5;241;43m5\u001b[39;49m\u001b[43m]\u001b[49m\n",
      "\u001b[1;31mIndexError\u001b[0m: tuple index out of range"
     ]
    }
   ],
   "source": [
    "tuple[5]"
   ]
  },
  {
   "cell_type": "code",
   "execution_count": 13,
   "id": "62e9ed87",
   "metadata": {},
   "outputs": [
    {
     "ename": "TypeError",
     "evalue": "'tuple' object does not support item assignment",
     "output_type": "error",
     "traceback": [
      "\u001b[1;31m---------------------------------------------------------------------------\u001b[0m",
      "\u001b[1;31mTypeError\u001b[0m                                 Traceback (most recent call last)",
      "Cell \u001b[1;32mIn[13], line 1\u001b[0m\n\u001b[1;32m----> 1\u001b[0m \u001b[38;5;28mtuple\u001b[39m[\u001b[38;5;241m2\u001b[39m]\u001b[38;5;241m=\u001b[39m\u001b[38;5;241m1\u001b[39m\n",
      "\u001b[1;31mTypeError\u001b[0m: 'tuple' object does not support item assignment"
     ]
    }
   ],
   "source": [
    "tuple[2]=1"
   ]
  },
  {
   "cell_type": "markdown",
   "id": "2e12c7aa",
   "metadata": {},
   "source": [
    "## SET"
   ]
  },
  {
   "cell_type": "markdown",
   "id": "deb3d561",
   "metadata": {},
   "source": [
    "### MUTABLE"
   ]
  },
  {
   "cell_type": "markdown",
   "id": "52fd6d80",
   "metadata": {},
   "source": [
    "### CAN'T RETRIEVE DATA USING IT'S INDEX"
   ]
  },
  {
   "cell_type": "markdown",
   "id": "867c26e1",
   "metadata": {},
   "source": [
    "### DOESN'T ALLOW DUPLICATES"
   ]
  },
  {
   "cell_type": "markdown",
   "id": "38ed9114",
   "metadata": {},
   "source": [
    "### ORDER FIRST PLACED"
   ]
  },
  {
   "cell_type": "code",
   "execution_count": 22,
   "id": "95fb2ff0",
   "metadata": {},
   "outputs": [
    {
     "data": {
      "text/plain": [
       "{1, 12, 2, 23, 3, 4, 45, 'abc', 'abd', 'def'}"
      ]
     },
     "execution_count": 22,
     "metadata": {},
     "output_type": "execute_result"
    }
   ],
   "source": [
    "set={1,2,3,\"abc\",12,4,45,1,'def',23,\"abd\"}\n",
    "set"
   ]
  },
  {
   "cell_type": "code",
   "execution_count": 20,
   "id": "ffbd7729",
   "metadata": {},
   "outputs": [
    {
     "ename": "TypeError",
     "evalue": "'set' object is not subscriptable",
     "output_type": "error",
     "traceback": [
      "\u001b[1;31m---------------------------------------------------------------------------\u001b[0m",
      "\u001b[1;31mTypeError\u001b[0m                                 Traceback (most recent call last)",
      "Cell \u001b[1;32mIn[20], line 1\u001b[0m\n\u001b[1;32m----> 1\u001b[0m \u001b[38;5;28;43mset\u001b[39;49m\u001b[43m[\u001b[49m\u001b[38;5;241;43m2\u001b[39;49m\u001b[43m]\u001b[49m\n",
      "\u001b[1;31mTypeError\u001b[0m: 'set' object is not subscriptable"
     ]
    }
   ],
   "source": [
    "set[2]"
   ]
  },
  {
   "cell_type": "code",
   "execution_count": 21,
   "id": "e672ef15",
   "metadata": {},
   "outputs": [
    {
     "ename": "TypeError",
     "evalue": "'set' object does not support item assignment",
     "output_type": "error",
     "traceback": [
      "\u001b[1;31m---------------------------------------------------------------------------\u001b[0m",
      "\u001b[1;31mTypeError\u001b[0m                                 Traceback (most recent call last)",
      "Cell \u001b[1;32mIn[21], line 1\u001b[0m\n\u001b[1;32m----> 1\u001b[0m \u001b[38;5;28mset\u001b[39m[\u001b[38;5;241m1\u001b[39m]\u001b[38;5;241m=\u001b[39m\u001b[38;5;241m55\u001b[39m\n",
      "\u001b[1;31mTypeError\u001b[0m: 'set' object does not support item assignment"
     ]
    }
   ],
   "source": [
    "set[1]=55"
   ]
  },
  {
   "cell_type": "code",
   "execution_count": 23,
   "id": "e26c2616",
   "metadata": {},
   "outputs": [],
   "source": [
    "set.add(199)"
   ]
  },
  {
   "cell_type": "code",
   "execution_count": 24,
   "id": "f1890ef1",
   "metadata": {},
   "outputs": [
    {
     "data": {
      "text/plain": [
       "{1, 12, 199, 2, 23, 3, 4, 45, 'abc', 'abd', 'def'}"
      ]
     },
     "execution_count": 24,
     "metadata": {},
     "output_type": "execute_result"
    }
   ],
   "source": [
    "set"
   ]
  },
  {
   "cell_type": "code",
   "execution_count": 25,
   "id": "2b39e8e6",
   "metadata": {},
   "outputs": [],
   "source": [
    "set.remove(1)"
   ]
  },
  {
   "cell_type": "code",
   "execution_count": 26,
   "id": "8d6b7380",
   "metadata": {},
   "outputs": [
    {
     "data": {
      "text/plain": [
       "{12, 199, 2, 23, 3, 4, 45, 'abc', 'abd', 'def'}"
      ]
     },
     "execution_count": 26,
     "metadata": {},
     "output_type": "execute_result"
    }
   ],
   "source": [
    "set"
   ]
  },
  {
   "cell_type": "markdown",
   "id": "200df1c6",
   "metadata": {},
   "source": [
    "## DICTIONARY"
   ]
  },
  {
   "cell_type": "markdown",
   "id": "d40b068d",
   "metadata": {},
   "source": [
    "### HAS KEY-VALUE PAIR DATA STRUCTURE"
   ]
  },
  {
   "cell_type": "markdown",
   "id": "7b1aed9f",
   "metadata": {},
   "source": [
    "### KEY IS UNIQUE"
   ]
  },
  {
   "cell_type": "markdown",
   "id": "8281b575",
   "metadata": {},
   "source": [
    "### VALUES CAN BE DUPLICATED"
   ]
  },
  {
   "cell_type": "markdown",
   "id": "c8015ec4",
   "metadata": {},
   "source": [
    "### VALUES CAN BE RETRIEVED USING KEY BUT KEY CANNOT BE RETRIEVED USING A VALUE"
   ]
  },
  {
   "cell_type": "code",
   "execution_count": 29,
   "id": "c9b7506e",
   "metadata": {},
   "outputs": [
    {
     "data": {
      "text/plain": [
       "{1: 2, 2: 22, 3: 4.5, 4: 'eve'}"
      ]
     },
     "execution_count": 29,
     "metadata": {},
     "output_type": "execute_result"
    }
   ],
   "source": [
    "dict={1:2,2:\"apple\",2:\"hi\",3:4.5,2:22,4:\"eve\"}\n",
    "dict"
   ]
  },
  {
   "cell_type": "code",
   "execution_count": 30,
   "id": "b3c2227c",
   "metadata": {},
   "outputs": [
    {
     "data": {
      "text/plain": [
       "22"
      ]
     },
     "execution_count": 30,
     "metadata": {},
     "output_type": "execute_result"
    }
   ],
   "source": [
    "dict[2]"
   ]
  },
  {
   "cell_type": "code",
   "execution_count": 32,
   "id": "f3ccbb1d",
   "metadata": {},
   "outputs": [
    {
     "ename": "KeyError",
     "evalue": "'apple'",
     "output_type": "error",
     "traceback": [
      "\u001b[1;31m---------------------------------------------------------------------------\u001b[0m",
      "\u001b[1;31mKeyError\u001b[0m                                  Traceback (most recent call last)",
      "Cell \u001b[1;32mIn[32], line 1\u001b[0m\n\u001b[1;32m----> 1\u001b[0m \u001b[38;5;28;43mdict\u001b[39;49m\u001b[43m[\u001b[49m\u001b[38;5;124;43m\"\u001b[39;49m\u001b[38;5;124;43mapple\u001b[39;49m\u001b[38;5;124;43m\"\u001b[39;49m\u001b[43m]\u001b[49m\n",
      "\u001b[1;31mKeyError\u001b[0m: 'apple'"
     ]
    }
   ],
   "source": [
    "dict[\"apple\"]"
   ]
  },
  {
   "cell_type": "code",
   "execution_count": 33,
   "id": "f9313a69",
   "metadata": {},
   "outputs": [],
   "source": [
    "dict[7]=100"
   ]
  },
  {
   "cell_type": "code",
   "execution_count": 34,
   "id": "a26a0670",
   "metadata": {},
   "outputs": [
    {
     "data": {
      "text/plain": [
       "{1: 2, 2: 22, 3: 4.5, 4: 'eve', 7: 100}"
      ]
     },
     "execution_count": 34,
     "metadata": {},
     "output_type": "execute_result"
    }
   ],
   "source": [
    "dict\n"
   ]
  },
  {
   "cell_type": "code",
   "execution_count": 36,
   "id": "6e1849f1",
   "metadata": {},
   "outputs": [],
   "source": [
    "dict[10]=\"do\""
   ]
  },
  {
   "cell_type": "code",
   "execution_count": 37,
   "id": "bb218ccc",
   "metadata": {},
   "outputs": [
    {
     "data": {
      "text/plain": [
       "{1: 2, 2: 22, 3: 4.5, 4: 'eve', 7: 100, 10: 'do'}"
      ]
     },
     "execution_count": 37,
     "metadata": {},
     "output_type": "execute_result"
    }
   ],
   "source": [
    "dict"
   ]
  },
  {
   "cell_type": "code",
   "execution_count": null,
   "id": "8ac8f69a",
   "metadata": {},
   "outputs": [],
   "source": []
  }
 ],
 "metadata": {
  "kernelspec": {
   "display_name": "Python 3 (ipykernel)",
   "language": "python",
   "name": "python3"
  },
  "language_info": {
   "codemirror_mode": {
    "name": "ipython",
    "version": 3
   },
   "file_extension": ".py",
   "mimetype": "text/x-python",
   "name": "python",
   "nbconvert_exporter": "python",
   "pygments_lexer": "ipython3",
   "version": "3.10.9"
  }
 },
 "nbformat": 4,
 "nbformat_minor": 5
}
